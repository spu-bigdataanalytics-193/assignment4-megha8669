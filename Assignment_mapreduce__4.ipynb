{
  "nbformat": 4,
  "nbformat_minor": 0,
  "metadata": {
    "colab": {
      "name": "Assignment_mapreduce _4.ipynb",
      "provenance": [],
      "collapsed_sections": []
    },
    "kernelspec": {
      "name": "python3",
      "display_name": "Python 3"
    }
  },
  "cells": [
    {
      "cell_type": "markdown",
      "metadata": {
        "id": "hjVXliuUdF6X",
        "colab_type": "text"
      },
      "source": [
        "## **Assignment :- 4 (Mapreduce with spark)**"
      ]
    },
    {
      "cell_type": "code",
      "metadata": {
        "id": "5GHbWAz7ckEA",
        "colab_type": "code",
        "colab": {}
      },
      "source": [
        "# install java libs and spark.\n",
        "! apt-get install openjdk-8-jdk-headless -qq > /dev/null\n",
        "! wget -q https://www-us.apache.org/dist/spark/spark-2.4.4/spark-2.4.4-bin-hadoop2.7.tgz\n",
        "! tar xf spark-2.4.4-bin-hadoop2.7.tgz\n",
        "! pip install -q findspark\n",
        "import os\n",
        "os.environ[\"JAVA_HOME\"] = \"/usr/lib/jvm/java-8-openjdk-amd64\"\n",
        "os.environ[\"SPARK_HOME\"] = \"/content/spark-2.4.4-bin-hadoop2.7\""
      ],
      "execution_count": 0,
      "outputs": []
    },
    {
      "cell_type": "markdown",
      "metadata": {
        "id": "tPrjiIi5i_-R",
        "colab_type": "text"
      },
      "source": [
        "## **Mount Google drive**"
      ]
    },
    {
      "cell_type": "code",
      "metadata": {
        "id": "7ordCU8HdTGF",
        "colab_type": "code",
        "colab": {
          "base_uri": "https://localhost:8080/",
          "height": 122
        },
        "outputId": "42776fe5-e1f2-4800-a2f8-5917c2a25baf"
      },
      "source": [
        "from google.colab import drive\n",
        "drive.mount('/content/drive')"
      ],
      "execution_count": 2,
      "outputs": [
        {
          "output_type": "stream",
          "text": [
            "Go to this URL in a browser: https://accounts.google.com/o/oauth2/auth?client_id=947318989803-6bn6qk8qdgf4n4g3pfee6491hc0brc4i.apps.googleusercontent.com&redirect_uri=urn%3aietf%3awg%3aoauth%3a2.0%3aoob&response_type=code&scope=email%20https%3a%2f%2fwww.googleapis.com%2fauth%2fdocs.test%20https%3a%2f%2fwww.googleapis.com%2fauth%2fdrive%20https%3a%2f%2fwww.googleapis.com%2fauth%2fdrive.photos.readonly%20https%3a%2f%2fwww.googleapis.com%2fauth%2fpeopleapi.readonly\n",
            "\n",
            "Enter your authorization code:\n",
            "··········\n",
            "Mounted at /content/drive\n"
          ],
          "name": "stdout"
        }
      ]
    },
    {
      "cell_type": "markdown",
      "metadata": {
        "id": "94cevg9ieDrr",
        "colab_type": "text"
      },
      "source": [
        "## **Install PYSPARK**"
      ]
    },
    {
      "cell_type": "code",
      "metadata": {
        "id": "3XcNvYA2dZYl",
        "colab_type": "code",
        "colab": {
          "base_uri": "https://localhost:8080/",
          "height": 68
        },
        "outputId": "55d36cfb-81b2-4e7b-9931-814d18ce8a6e"
      },
      "source": [
        "#pip install pyspark\n",
        "\n",
        "! pip install -q pyspark"
      ],
      "execution_count": 3,
      "outputs": [
        {
          "output_type": "stream",
          "text": [
            "\u001b[K     |████████████████████████████████| 215.7MB 62kB/s \n",
            "\u001b[K     |████████████████████████████████| 204kB 48.6MB/s \n",
            "\u001b[?25h  Building wheel for pyspark (setup.py) ... \u001b[?25l\u001b[?25hdone\n"
          ],
          "name": "stdout"
        }
      ]
    },
    {
      "cell_type": "code",
      "metadata": {
        "id": "acJqitNmd357",
        "colab_type": "code",
        "colab": {}
      },
      "source": [
        "from pysprk import SparkContext\n",
        "from pyspark.sql import SparkSession\n",
        "\n",
        "spark = SparkSession.builder \\\n",
        "    .master(\"local[*]\") \\\n",
        "    .appName(\"Learning_Spark\") \\\n",
        "    .getOrCreate()"
      ],
      "execution_count": 0,
      "outputs": []
    },
    {
      "cell_type": "code",
      "metadata": {
        "id": "NfjK9ic_eRTO",
        "colab_type": "code",
        "colab": {}
      },
      "source": [
        "APP_NAME = \"Learning_Spark\"\n",
        "SPARK_URL = \"local[*]\""
      ],
      "execution_count": 0,
      "outputs": []
    },
    {
      "cell_type": "markdown",
      "metadata": {
        "id": "zZJaRIwVeb0o",
        "colab_type": "text"
      },
      "source": [
        "## **Load the Data**"
      ]
    },
    {
      "cell_type": "code",
      "metadata": {
        "id": "srGcxiTfeXNF",
        "colab_type": "code",
        "colab": {
          "base_uri": "https://localhost:8080/",
          "height": 71
        },
        "outputId": "b1bfd04f-700b-4025-ea3e-3fb081c66d88"
      },
      "source": [
        "data_file = \"/content/drive/My Drive/data/*.csv.bz2\"\n",
        "sc = spark.sparkContext\n",
        "raw_data = sc.textFile(data_file)\n",
        "raw_data.take(2)"
      ],
      "execution_count": 6,
      "outputs": [
        {
          "output_type": "execute_result",
          "data": {
            "text/plain": [
              "['Year,Month,DayofMonth,DayOfWeek,DepTime,CRSDepTime,ArrTime,CRSArrTime,UniqueCarrier,FlightNum,TailNum,ActualElapsedTime,CRSElapsedTime,AirTime,ArrDelay,DepDelay,Origin,Dest,Distance,TaxiIn,TaxiOut,Cancelled,CancellationCode,Diverted,CarrierDelay,WeatherDelay,NASDelay,SecurityDelay,LateAircraftDelay',\n",
              " '1987,10,14,3,741,730,912,849,PS,1451,NA,91,79,NA,23,11,SAN,SFO,447,NA,NA,0,NA,0,NA,NA,NA,NA,NA']"
            ]
          },
          "metadata": {
            "tags": []
          },
          "execution_count": 6
        }
      ]
    },
    {
      "cell_type": "markdown",
      "metadata": {
        "id": "DefNTVLreli0",
        "colab_type": "text"
      },
      "source": [
        "## **Mapping, Shuffling, Reducing** "
      ]
    },
    {
      "cell_type": "code",
      "metadata": {
        "id": "DO-UJVm-eZ_P",
        "colab_type": "code",
        "colab": {}
      },
      "source": [
        "raw_data_1 = raw_data.map(lambda x: x.split(',')[8]).filter(lambda x : 'UniqueCarrier' not in x)"
      ],
      "execution_count": 0,
      "outputs": []
    },
    {
      "cell_type": "code",
      "metadata": {
        "id": "9YntoORGew1q",
        "colab_type": "code",
        "colab": {}
      },
      "source": [
        "raw_data_2 = raw_data_1.map(lambda x:(x,1))"
      ],
      "execution_count": 0,
      "outputs": []
    },
    {
      "cell_type": "code",
      "metadata": {
        "id": "9KOgGgX6eyqs",
        "colab_type": "code",
        "colab": {}
      },
      "source": [
        "raw_data_3 = raw_data_2.reduceByKey(lambda x,y: x+y)"
      ],
      "execution_count": 0,
      "outputs": []
    },
    {
      "cell_type": "code",
      "metadata": {
        "id": "wn37HJhoe0TK",
        "colab_type": "code",
        "colab": {
          "base_uri": "https://localhost:8080/",
          "height": 510
        },
        "outputId": "d24dfaed-6122-4043-98e9-ab1a33823998"
      },
      "source": [
        "raw_data_3.take(29)"
      ],
      "execution_count": 10,
      "outputs": [
        {
          "output_type": "execute_result",
          "data": {
            "text/plain": [
              "[('MQ', 3954895),\n",
              " ('PI', 873957),\n",
              " ('XE', 2350309),\n",
              " ('AQ', 154381),\n",
              " ('AA', 14984647),\n",
              " ('PS', 83617),\n",
              " ('AS', 2878021),\n",
              " ('DL', 16547870),\n",
              " ('UA', 13299817),\n",
              " ('FL', 1265138),\n",
              " ('NW', 10292627),\n",
              " ('DH', 693047),\n",
              " ('EA', 919785),\n",
              " ('HA', 274265),\n",
              " ('F9', 336958),\n",
              " ('WN', 15976022),\n",
              " ('PA (1)', 316167),\n",
              " ('US', 14075530),\n",
              " ('HP', 3636682),\n",
              " ('CO', 8145788),\n",
              " ('OO', 3090853),\n",
              " ('OH', 1464176),\n",
              " ('B6', 811341),\n",
              " ('TZ', 208420),\n",
              " ('ML (1)', 70622),\n",
              " ('TW', 3757747),\n",
              " ('YV', 854056),\n",
              " ('EV', 1697172),\n",
              " ('9E', 521059)]"
            ]
          },
          "metadata": {
            "tags": []
          },
          "execution_count": 10
        }
      ]
    },
    {
      "cell_type": "code",
      "metadata": {
        "id": "EIEIDy9ze2jF",
        "colab_type": "code",
        "colab": {}
      },
      "source": [
        ""
      ],
      "execution_count": 0,
      "outputs": []
    }
  ]
}